{
 "cells": [
  {
   "cell_type": "markdown",
   "id": "fd2f13a0",
   "metadata": {
    "papermill": {
     "duration": 0.039835,
     "end_time": "2023-12-08T10:46:32.031762",
     "exception": false,
     "start_time": "2023-12-08T10:46:31.991927",
     "status": "completed"
    },
    "tags": []
   },
   "source": [
    "# Analyzing Typography MNIST (TMNIST) Using Neural Network Classification"
   ]
  },
  {
   "cell_type": "markdown",
   "id": "38eff6f4",
   "metadata": {
    "papermill": {
     "duration": 0.037784,
     "end_time": "2023-12-08T10:46:32.108298",
     "exception": false,
     "start_time": "2023-12-08T10:46:32.070514",
     "status": "completed"
    },
    "tags": []
   },
   "source": [
    "## Typography MNIST (TMNIST)\n",
    "\n",
    "MNIST style images of the following 94 alphabetic characters:\n",
    "\n",
    "{'0', '1', '2', '3', '4', '5', '6', '7', '8', '9', 'a', 'b', 'c', 'd', 'e', 'f', 'g', 'h', 'i', 'j', 'k', 'l', 'm', 'n', 'o', 'p', 'q', 'r', 's', 't', 'u', 'v', 'w', 'x', 'y', 'z', 'A', 'B', 'C', 'D', 'E', 'F', 'G', 'H', 'I', 'J', 'K', 'L', 'M', 'N', 'O', 'P', 'Q', 'R', 'S', 'T', 'U', 'V', 'W', 'X', 'Y', 'Z', '!', '\"', '#', '$', '%', '&', \"'\", '(', ')', '*', '+', ',', '-', '.', '/', ':', ';', '<', '=', '>', '?', '@', '[', '\\', ']', '^', '_', '`', '{', '|', '}', '~'}\n",
    "\n",
    "the first row contains column headers\n",
    "The 'names' column contains font file names\n",
    "The 'labels' column contains characters\n",
    "The remaining 784 columns contain the grayscale pixel values for the image of the corresponding character in the 'name' font-style\n",
    "This dataset contains over 281,000 images and is part of the Warhol.ai Computational Creativity and Cognitive Type projects."
   ]
  },
  {
   "cell_type": "markdown",
   "id": "a12ce4ee",
   "metadata": {
    "papermill": {
     "duration": 0.037559,
     "end_time": "2023-12-08T10:46:32.184846",
     "exception": false,
     "start_time": "2023-12-08T10:46:32.147287",
     "status": "completed"
    },
    "tags": []
   },
   "source": [
    "## Import Libraries and Function"
   ]
  },
  {
   "cell_type": "code",
   "execution_count": 1,
   "id": "f43f8917",
   "metadata": {
    "execution": {
     "iopub.execute_input": "2023-12-08T10:46:32.265194Z",
     "iopub.status.busy": "2023-12-08T10:46:32.264574Z",
     "iopub.status.idle": "2023-12-08T10:46:38.801774Z",
     "shell.execute_reply": "2023-12-08T10:46:38.800899Z"
    },
    "papermill": {
     "duration": 6.581066,
     "end_time": "2023-12-08T10:46:38.805019",
     "exception": false,
     "start_time": "2023-12-08T10:46:32.223953",
     "status": "completed"
    },
    "tags": []
   },
   "outputs": [
    {
     "name": "stdout",
     "output_type": "stream",
     "text": [
      "/kaggle/input/tmnist-alphabet-94-characters/94_character_TMNIST.csv\n"
     ]
    }
   ],
   "source": [
    "import numpy as np\n",
    "import pandas as pd\n",
    "import os\n",
    "from keras.layers.convolutional import Conv2D\n",
    "from sklearn.preprocessing import LabelBinarizer\n",
    "\n",
    "from keras.models import Sequential\n",
    "from keras.layers import Dense\n",
    "from keras.layers import Dropout\n",
    "from keras.layers import Flatten\n",
    "from keras.callbacks import EarlyStopping\n",
    "from keras.layers.convolutional import MaxPooling2D\n",
    "from keras.utils import np_utils\n",
    "\n",
    "for dirname, _, filenames in os.walk('/kaggle/input'):\n",
    "    for filename in filenames:\n",
    "        print(os.path.join(dirname, filename))"
   ]
  },
  {
   "cell_type": "markdown",
   "id": "6a4e7c70",
   "metadata": {
    "papermill": {
     "duration": 0.038582,
     "end_time": "2023-12-08T10:46:38.883825",
     "exception": false,
     "start_time": "2023-12-08T10:46:38.845243",
     "status": "completed"
    },
    "tags": []
   },
   "source": [
    "## Reading the Input"
   ]
  },
  {
   "cell_type": "code",
   "execution_count": 2,
   "id": "3e4d0378",
   "metadata": {
    "execution": {
     "iopub.execute_input": "2023-12-08T10:46:38.967184Z",
     "iopub.status.busy": "2023-12-08T10:46:38.966335Z",
     "iopub.status.idle": "2023-12-08T10:47:22.986542Z",
     "shell.execute_reply": "2023-12-08T10:47:22.985737Z"
    },
    "papermill": {
     "duration": 44.065757,
     "end_time": "2023-12-08T10:47:22.989649",
     "exception": false,
     "start_time": "2023-12-08T10:46:38.923892",
     "status": "completed"
    },
    "tags": []
   },
   "outputs": [],
   "source": [
    "data = pd.read_csv(\"../input/tmnist-alphabet-94-characters/94_character_TMNIST.csv\")\n"
   ]
  },
  {
   "cell_type": "code",
   "execution_count": 3,
   "id": "f0c8ef96",
   "metadata": {
    "execution": {
     "iopub.execute_input": "2023-12-08T10:47:23.086771Z",
     "iopub.status.busy": "2023-12-08T10:47:23.086314Z",
     "iopub.status.idle": "2023-12-08T10:47:23.145230Z",
     "shell.execute_reply": "2023-12-08T10:47:23.144532Z"
    },
    "papermill": {
     "duration": 0.106911,
     "end_time": "2023-12-08T10:47:23.147690",
     "exception": false,
     "start_time": "2023-12-08T10:47:23.040779",
     "status": "completed"
    },
    "tags": []
   },
   "outputs": [
    {
     "data": {
      "text/html": [
       "<div>\n",
       "<style scoped>\n",
       "    .dataframe tbody tr th:only-of-type {\n",
       "        vertical-align: middle;\n",
       "    }\n",
       "\n",
       "    .dataframe tbody tr th {\n",
       "        vertical-align: top;\n",
       "    }\n",
       "\n",
       "    .dataframe thead th {\n",
       "        text-align: right;\n",
       "    }\n",
       "</style>\n",
       "<table border=\"1\" class=\"dataframe\">\n",
       "  <thead>\n",
       "    <tr style=\"text-align: right;\">\n",
       "      <th></th>\n",
       "      <th>names</th>\n",
       "      <th>labels</th>\n",
       "      <th>1</th>\n",
       "      <th>2</th>\n",
       "      <th>3</th>\n",
       "      <th>4</th>\n",
       "      <th>5</th>\n",
       "      <th>6</th>\n",
       "      <th>7</th>\n",
       "      <th>8</th>\n",
       "      <th>...</th>\n",
       "      <th>775</th>\n",
       "      <th>776</th>\n",
       "      <th>777</th>\n",
       "      <th>778</th>\n",
       "      <th>779</th>\n",
       "      <th>780</th>\n",
       "      <th>781</th>\n",
       "      <th>782</th>\n",
       "      <th>783</th>\n",
       "      <th>784</th>\n",
       "    </tr>\n",
       "  </thead>\n",
       "  <tbody>\n",
       "    <tr>\n",
       "      <th>0</th>\n",
       "      <td>Salsa-Regular</td>\n",
       "      <td>6</td>\n",
       "      <td>0.0</td>\n",
       "      <td>0.0</td>\n",
       "      <td>0.0</td>\n",
       "      <td>0.0</td>\n",
       "      <td>0.0</td>\n",
       "      <td>0.0</td>\n",
       "      <td>0.0</td>\n",
       "      <td>0.0</td>\n",
       "      <td>...</td>\n",
       "      <td>0.0</td>\n",
       "      <td>0.0</td>\n",
       "      <td>0.0</td>\n",
       "      <td>0.0</td>\n",
       "      <td>0.0</td>\n",
       "      <td>0.0</td>\n",
       "      <td>0.0</td>\n",
       "      <td>0.0</td>\n",
       "      <td>0.0</td>\n",
       "      <td>0.0</td>\n",
       "    </tr>\n",
       "    <tr>\n",
       "      <th>1</th>\n",
       "      <td>MouseMemoirs-Regular</td>\n",
       "      <td>D</td>\n",
       "      <td>0.0</td>\n",
       "      <td>0.0</td>\n",
       "      <td>0.0</td>\n",
       "      <td>0.0</td>\n",
       "      <td>0.0</td>\n",
       "      <td>0.0</td>\n",
       "      <td>0.0</td>\n",
       "      <td>0.0</td>\n",
       "      <td>...</td>\n",
       "      <td>0.0</td>\n",
       "      <td>0.0</td>\n",
       "      <td>0.0</td>\n",
       "      <td>0.0</td>\n",
       "      <td>0.0</td>\n",
       "      <td>0.0</td>\n",
       "      <td>0.0</td>\n",
       "      <td>0.0</td>\n",
       "      <td>0.0</td>\n",
       "      <td>0.0</td>\n",
       "    </tr>\n",
       "    <tr>\n",
       "      <th>2</th>\n",
       "      <td>Creepster-Regular</td>\n",
       "      <td>f</td>\n",
       "      <td>0.0</td>\n",
       "      <td>0.0</td>\n",
       "      <td>0.0</td>\n",
       "      <td>0.0</td>\n",
       "      <td>0.0</td>\n",
       "      <td>0.0</td>\n",
       "      <td>0.0</td>\n",
       "      <td>0.0</td>\n",
       "      <td>...</td>\n",
       "      <td>0.0</td>\n",
       "      <td>0.0</td>\n",
       "      <td>0.0</td>\n",
       "      <td>0.0</td>\n",
       "      <td>0.0</td>\n",
       "      <td>0.0</td>\n",
       "      <td>0.0</td>\n",
       "      <td>0.0</td>\n",
       "      <td>0.0</td>\n",
       "      <td>0.0</td>\n",
       "    </tr>\n",
       "    <tr>\n",
       "      <th>3</th>\n",
       "      <td>SeoulNamsan-Light</td>\n",
       "      <td>/</td>\n",
       "      <td>0.0</td>\n",
       "      <td>0.0</td>\n",
       "      <td>0.0</td>\n",
       "      <td>0.0</td>\n",
       "      <td>0.0</td>\n",
       "      <td>0.0</td>\n",
       "      <td>0.0</td>\n",
       "      <td>0.0</td>\n",
       "      <td>...</td>\n",
       "      <td>0.0</td>\n",
       "      <td>0.0</td>\n",
       "      <td>0.0</td>\n",
       "      <td>0.0</td>\n",
       "      <td>0.0</td>\n",
       "      <td>0.0</td>\n",
       "      <td>0.0</td>\n",
       "      <td>0.0</td>\n",
       "      <td>0.0</td>\n",
       "      <td>0.0</td>\n",
       "    </tr>\n",
       "    <tr>\n",
       "      <th>4</th>\n",
       "      <td>HachiMaruPop-Regular</td>\n",
       "      <td>F</td>\n",
       "      <td>0.0</td>\n",
       "      <td>0.0</td>\n",
       "      <td>0.0</td>\n",
       "      <td>0.0</td>\n",
       "      <td>0.0</td>\n",
       "      <td>0.0</td>\n",
       "      <td>0.0</td>\n",
       "      <td>0.0</td>\n",
       "      <td>...</td>\n",
       "      <td>0.0</td>\n",
       "      <td>0.0</td>\n",
       "      <td>0.0</td>\n",
       "      <td>0.0</td>\n",
       "      <td>0.0</td>\n",
       "      <td>0.0</td>\n",
       "      <td>0.0</td>\n",
       "      <td>0.0</td>\n",
       "      <td>0.0</td>\n",
       "      <td>0.0</td>\n",
       "    </tr>\n",
       "  </tbody>\n",
       "</table>\n",
       "<p>5 rows × 786 columns</p>\n",
       "</div>"
      ],
      "text/plain": [
       "                  names labels    1    2    3    4    5    6    7    8  ...  \\\n",
       "0         Salsa-Regular      6  0.0  0.0  0.0  0.0  0.0  0.0  0.0  0.0  ...   \n",
       "1  MouseMemoirs-Regular      D  0.0  0.0  0.0  0.0  0.0  0.0  0.0  0.0  ...   \n",
       "2     Creepster-Regular      f  0.0  0.0  0.0  0.0  0.0  0.0  0.0  0.0  ...   \n",
       "3     SeoulNamsan-Light      /  0.0  0.0  0.0  0.0  0.0  0.0  0.0  0.0  ...   \n",
       "4  HachiMaruPop-Regular      F  0.0  0.0  0.0  0.0  0.0  0.0  0.0  0.0  ...   \n",
       "\n",
       "   775  776  777  778  779  780  781  782  783  784  \n",
       "0  0.0  0.0  0.0  0.0  0.0  0.0  0.0  0.0  0.0  0.0  \n",
       "1  0.0  0.0  0.0  0.0  0.0  0.0  0.0  0.0  0.0  0.0  \n",
       "2  0.0  0.0  0.0  0.0  0.0  0.0  0.0  0.0  0.0  0.0  \n",
       "3  0.0  0.0  0.0  0.0  0.0  0.0  0.0  0.0  0.0  0.0  \n",
       "4  0.0  0.0  0.0  0.0  0.0  0.0  0.0  0.0  0.0  0.0  \n",
       "\n",
       "[5 rows x 786 columns]"
      ]
     },
     "execution_count": 3,
     "metadata": {},
     "output_type": "execute_result"
    }
   ],
   "source": [
    "data.head()"
   ]
  },
  {
   "cell_type": "code",
   "execution_count": 4,
   "id": "b510e378",
   "metadata": {
    "execution": {
     "iopub.execute_input": "2023-12-08T10:47:23.243359Z",
     "iopub.status.busy": "2023-12-08T10:47:23.243061Z",
     "iopub.status.idle": "2023-12-08T10:47:23.249690Z",
     "shell.execute_reply": "2023-12-08T10:47:23.248694Z"
    },
    "papermill": {
     "duration": 0.050922,
     "end_time": "2023-12-08T10:47:23.252235",
     "exception": false,
     "start_time": "2023-12-08T10:47:23.201313",
     "status": "completed"
    },
    "tags": []
   },
   "outputs": [
    {
     "data": {
      "text/plain": [
       "(274093, 786)"
      ]
     },
     "execution_count": 4,
     "metadata": {},
     "output_type": "execute_result"
    }
   ],
   "source": [
    "data.shape"
   ]
  },
  {
   "cell_type": "code",
   "execution_count": 5,
   "id": "3a34067f",
   "metadata": {
    "execution": {
     "iopub.execute_input": "2023-12-08T10:47:23.337019Z",
     "iopub.status.busy": "2023-12-08T10:47:23.336290Z",
     "iopub.status.idle": "2023-12-08T10:47:23.955076Z",
     "shell.execute_reply": "2023-12-08T10:47:23.954380Z"
    },
    "papermill": {
     "duration": 0.663916,
     "end_time": "2023-12-08T10:47:23.957399",
     "exception": false,
     "start_time": "2023-12-08T10:47:23.293483",
     "status": "completed"
    },
    "tags": []
   },
   "outputs": [],
   "source": [
    "X = data.drop(columns={'names','labels'})\n",
    "y = data[['labels']]"
   ]
  },
  {
   "cell_type": "markdown",
   "id": "0f1afd1c",
   "metadata": {
    "papermill": {
     "duration": 0.040445,
     "end_time": "2023-12-08T10:47:24.043140",
     "exception": false,
     "start_time": "2023-12-08T10:47:24.002695",
     "status": "completed"
    },
    "tags": []
   },
   "source": [
    "## Loading the Dataset"
   ]
  },
  {
   "cell_type": "code",
   "execution_count": 6,
   "id": "c531eb61",
   "metadata": {
    "execution": {
     "iopub.execute_input": "2023-12-08T10:47:24.125584Z",
     "iopub.status.busy": "2023-12-08T10:47:24.124942Z",
     "iopub.status.idle": "2023-12-08T10:47:25.168905Z",
     "shell.execute_reply": "2023-12-08T10:47:25.168029Z"
    },
    "papermill": {
     "duration": 1.088053,
     "end_time": "2023-12-08T10:47:25.171396",
     "exception": false,
     "start_time": "2023-12-08T10:47:24.083343",
     "status": "completed"
    },
    "tags": []
   },
   "outputs": [
    {
     "data": {
      "image/png": "[encoded data removed]",
      "text/plain": [
       "<Figure size 792x792 with 25 Axes>"
      ]
     },
     "metadata": {},
     "output_type": "display_data"
    }
   ],
   "source": [
    "import matplotlib.pyplot as plt\n",
    "\n",
    "X_images = X.values.reshape(-1,28,28)\n",
    "fig,axs = plt.subplots(5,5,figsize=(11,11))\n",
    "for i in range(25):\n",
    "    r=i//5\n",
    "    c=i%5\n",
    "    axs[r][c].set_xticks([])\n",
    "    axs[r][c].set_yticks([])\n",
    "    axs[r][c].imshow(X_images[i], cmap = 'Greys')\n",
    "plt.show()"
   ]
  },
  {
   "cell_type": "markdown",
   "id": "22c075af",
   "metadata": {
    "papermill": {
     "duration": 0.041716,
     "end_time": "2023-12-08T10:47:25.255382",
     "exception": false,
     "start_time": "2023-12-08T10:47:25.213666",
     "status": "completed"
    },
    "tags": []
   },
   "source": [
    "## Training & Test set data"
   ]
  },
  {
   "cell_type": "code",
   "execution_count": 7,
   "id": "abb7d8be",
   "metadata": {
    "execution": {
     "iopub.execute_input": "2023-12-08T10:47:25.342331Z",
     "iopub.status.busy": "2023-12-08T10:47:25.341642Z",
     "iopub.status.idle": "2023-12-08T10:47:27.371209Z",
     "shell.execute_reply": "2023-12-08T10:47:27.370092Z"
    },
    "papermill": {
     "duration": 2.076326,
     "end_time": "2023-12-08T10:47:27.373997",
     "exception": false,
     "start_time": "2023-12-08T10:47:25.297671",
     "status": "completed"
    },
    "tags": []
   },
   "outputs": [],
   "source": [
    "from sklearn.model_selection import train_test_split\n",
    "# Trainingset set using 75% data\n",
    "X_train, X_test, y_train, y_test = train_test_split(X, y, test_size=0.25)\n",
    "y_train = y_train.values.reshape((-1,))\n",
    "y_test = y_test.values.reshape((-1,))"
   ]
  },
  {
   "cell_type": "code",
   "execution_count": 8,
   "id": "2a42ce3d",
   "metadata": {
    "execution": {
     "iopub.execute_input": "2023-12-08T10:47:27.459765Z",
     "iopub.status.busy": "2023-12-08T10:47:27.459437Z",
     "iopub.status.idle": "2023-12-08T10:47:30.410100Z",
     "shell.execute_reply": "2023-12-08T10:47:30.408870Z"
    },
    "papermill": {
     "duration": 2.996342,
     "end_time": "2023-12-08T10:47:30.412558",
     "exception": false,
     "start_time": "2023-12-08T10:47:27.416216",
     "status": "completed"
    },
    "tags": []
   },
   "outputs": [
    {
     "name": "stdout",
     "output_type": "stream",
     "text": [
      "Train labels dimension:\n",
      "(205569,)\n",
      "Test labels dimension:\n",
      "(68524,)\n"
     ]
    }
   ],
   "source": [
    "from sklearn.preprocessing import LabelBinarizer\n",
    "\n",
    "lb = LabelBinarizer()\n",
    "y_train_label = lb.fit_transform(y_train)\n",
    "y_test_label = lb.transform(y_test)\n",
    "print('Train labels dimension:');print(y_train.shape)\n",
    "print('Test labels dimension:');print(y_test.shape)"
   ]
  },
  {
   "cell_type": "markdown",
   "id": "90e6fb65",
   "metadata": {
    "papermill": {
     "duration": 0.041711,
     "end_time": "2023-12-08T10:47:30.496034",
     "exception": false,
     "start_time": "2023-12-08T10:47:30.454323",
     "status": "completed"
    },
    "tags": []
   },
   "source": [
    "## Data Resetting for Neural Network"
   ]
  },
  {
   "cell_type": "code",
   "execution_count": 9,
   "id": "c9186f77",
   "metadata": {
    "execution": {
     "iopub.execute_input": "2023-12-08T10:47:30.582547Z",
     "iopub.status.busy": "2023-12-08T10:47:30.582178Z",
     "iopub.status.idle": "2023-12-08T10:47:30.987526Z",
     "shell.execute_reply": "2023-12-08T10:47:30.986774Z"
    },
    "papermill": {
     "duration": 0.451875,
     "end_time": "2023-12-08T10:47:30.990238",
     "exception": false,
     "start_time": "2023-12-08T10:47:30.538363",
     "status": "completed"
    },
    "tags": []
   },
   "outputs": [],
   "source": [
    "X_train, X_test = X_train/255, X_test/255"
   ]
  },
  {
   "cell_type": "code",
   "execution_count": 10,
   "id": "ebadb4f5",
   "metadata": {
    "execution": {
     "iopub.execute_input": "2023-12-08T10:47:31.077441Z",
     "iopub.status.busy": "2023-12-08T10:47:31.076845Z",
     "iopub.status.idle": "2023-12-08T10:47:31.430937Z",
     "shell.execute_reply": "2023-12-08T10:47:31.429763Z"
    },
    "papermill": {
     "duration": 0.400578,
     "end_time": "2023-12-08T10:47:31.433690",
     "exception": false,
     "start_time": "2023-12-08T10:47:31.033112",
     "status": "completed"
    },
    "tags": []
   },
   "outputs": [],
   "source": [
    "import tensorflow as tf\n",
    "from tensorflow.keras.models import Sequential\n",
    "from tensorflow.keras.layers import Dense\n",
    "from sklearn.metrics import roc_auc_score, accuracy_score"
   ]
  },
  {
   "cell_type": "code",
   "execution_count": 11,
   "id": "61acc508",
   "metadata": {
    "execution": {
     "iopub.execute_input": "2023-12-08T10:47:31.521232Z",
     "iopub.status.busy": "2023-12-08T10:47:31.520865Z",
     "iopub.status.idle": "2023-12-08T10:47:31.525002Z",
     "shell.execute_reply": "2023-12-08T10:47:31.524329Z"
    },
    "papermill": {
     "duration": 0.050914,
     "end_time": "2023-12-08T10:47:31.527102",
     "exception": false,
     "start_time": "2023-12-08T10:47:31.476188",
     "status": "completed"
    },
    "tags": []
   },
   "outputs": [],
   "source": [
    "import os\n",
    "os.environ['TF_CPP_MIN_LOG_LEVEL'] = '2'"
   ]
  },
  {
   "cell_type": "markdown",
   "id": "cdb01620",
   "metadata": {
    "papermill": {
     "duration": 0.042244,
     "end_time": "2023-12-08T10:47:31.611757",
     "exception": false,
     "start_time": "2023-12-08T10:47:31.569513",
     "status": "completed"
    },
    "tags": []
   },
   "source": [
    "##  CNN Architecture"
   ]
  },
  {
   "attachments": {
    "01e39193-9f1d-4b68-926e-ad3e0d1a5dd0.png": {
     "image/png": "[encoded data removed]"
    }
   },
   "cell_type": "markdown",
   "id": "dbabb5d5",
   "metadata": {
    "papermill": {
     "duration": 0.042475,
     "end_time": "2023-12-08T10:47:31.700071",
     "exception": false,
     "start_time": "2023-12-08T10:47:31.657596",
     "status": "completed"
    },
    "tags": []
   },
   "source": [
    "![Screenshot 2022-05-01 224941.png](attachment:01e39193-9f1d-4b68-926e-ad3e0d1a5dd0.png)"
   ]
  },
  {
   "cell_type": "markdown",
   "id": "912024b0",
   "metadata": {
    "papermill": {
     "duration": 0.041097,
     "end_time": "2023-12-08T10:47:31.783017",
     "exception": false,
     "start_time": "2023-12-08T10:47:31.741920",
     "status": "completed"
    },
    "tags": []
   },
   "source": [
    "## Building the Model"
   ]
  },
  {
   "cell_type": "code",
   "execution_count": 12,
   "id": "35ae05c3",
   "metadata": {
    "execution": {
     "iopub.execute_input": "2023-12-08T10:47:31.867673Z",
     "iopub.status.busy": "2023-12-08T10:47:31.867148Z",
     "iopub.status.idle": "2023-12-08T10:47:31.999468Z",
     "shell.execute_reply": "2023-12-08T10:47:31.998657Z"
    },
    "papermill": {
     "duration": 0.177324,
     "end_time": "2023-12-08T10:47:32.002047",
     "exception": false,
     "start_time": "2023-12-08T10:47:31.824723",
     "status": "completed"
    },
    "tags": []
   },
   "outputs": [],
   "source": [
    "#Building a Convolutional Neural Network\n",
    "\n",
    "model = Sequential()\n",
    "model.add(Dense(500, input_shape=(X_train.shape[1],), activation='relu'))\n",
    "model.add(Dense(250, activation='relu'))\n",
    "model.add(Dense(125, activation='relu'))\n",
    "model.add(Dense(y_train_label.shape[1], activation='softmax'))\n",
    "model.compile(loss='categorical_crossentropy', optimizer='adam', metrics=['accuracy'])"
   ]
  },
  {
   "cell_type": "code",
   "execution_count": 13,
   "id": "9abe8906",
   "metadata": {
    "execution": {
     "iopub.execute_input": "2023-12-08T10:47:32.089113Z",
     "iopub.status.busy": "2023-12-08T10:47:32.088046Z",
     "iopub.status.idle": "2023-12-08T10:47:32.097492Z",
     "shell.execute_reply": "2023-12-08T10:47:32.096503Z"
    },
    "papermill": {
     "duration": 0.055092,
     "end_time": "2023-12-08T10:47:32.099785",
     "exception": false,
     "start_time": "2023-12-08T10:47:32.044693",
     "status": "completed"
    },
    "tags": []
   },
   "outputs": [
    {
     "name": "stdout",
     "output_type": "stream",
     "text": [
      "Model: \"sequential\"\n",
      "_________________________________________________________________\n",
      "Layer (type)                 Output Shape              Param #   \n",
      "=================================================================\n",
      "dense (Dense)                (None, 500)               392500    \n",
      "_________________________________________________________________\n",
      "dense_1 (Dense)              (None, 250)               125250    \n",
      "_________________________________________________________________\n",
      "dense_2 (Dense)              (None, 125)               31375     \n",
      "_________________________________________________________________\n",
      "dense_3 (Dense)              (None, 94)                11844     \n",
      "=================================================================\n",
      "Total params: 560,969\n",
      "Trainable params: 560,969\n",
      "Non-trainable params: 0\n",
      "_________________________________________________________________\n"
     ]
    }
   ],
   "source": [
    "model.summary()"
   ]
  },
  {
   "cell_type": "markdown",
   "id": "1af49752",
   "metadata": {
    "papermill": {
     "duration": 0.042134,
     "end_time": "2023-12-08T10:47:32.185356",
     "exception": false,
     "start_time": "2023-12-08T10:47:32.143222",
     "status": "completed"
    },
    "tags": []
   },
   "source": [
    "## Training the Dataset"
   ]
  },
  {
   "cell_type": "code",
   "execution_count": 14,
   "id": "e215f9f4",
   "metadata": {
    "execution": {
     "iopub.execute_input": "2023-12-08T10:47:32.273448Z",
     "iopub.status.busy": "2023-12-08T10:47:32.272903Z",
     "iopub.status.idle": "2023-12-08T11:03:35.053186Z",
     "shell.execute_reply": "2023-12-08T11:03:35.051836Z"
    },
    "papermill": {
     "duration": 962.827055,
     "end_time": "2023-12-08T11:03:35.055776",
     "exception": false,
     "start_time": "2023-12-08T10:47:32.228721",
     "status": "completed"
    },
    "tags": []
   },
   "outputs": [
    {
     "name": "stdout",
     "output_type": "stream",
     "text": [
      "Epoch 1/100\n",
      "926/926 [==============================] - 10s 10ms/step - loss: 0.7654 - accuracy: 0.7968 - val_loss: 0.5118 - val_accuracy: 0.8408\n",
      "Epoch 2/100\n",
      "926/926 [==============================] - 9s 10ms/step - loss: 0.4288 - accuracy: 0.8662 - val_loss: 0.4131 - val_accuracy: 0.8706\n",
      "Epoch 3/100\n",
      "926/926 [==============================] - 10s 11ms/step - loss: 0.3582 - accuracy: 0.8841 - val_loss: 0.3925 - val_accuracy: 0.8768\n",
      "Epoch 4/100\n",
      "926/926 [==============================] - 9s 10ms/step - loss: 0.3149 - accuracy: 0.8941 - val_loss: 0.3631 - val_accuracy: 0.8843\n",
      "Epoch 5/100\n",
      "926/926 [==============================] - 9s 10ms/step - loss: 0.2817 - accuracy: 0.9042 - val_loss: 0.3417 - val_accuracy: 0.8909\n",
      "Epoch 6/100\n",
      "926/926 [==============================] - 11s 11ms/step - loss: 0.2548 - accuracy: 0.9118 - val_loss: 0.3333 - val_accuracy: 0.8971\n",
      "Epoch 7/100\n",
      "926/926 [==============================] - 10s 10ms/step - loss: 0.2331 - accuracy: 0.9181 - val_loss: 0.3315 - val_accuracy: 0.8922\n",
      "Epoch 8/100\n",
      "926/926 [==============================] - 10s 10ms/step - loss: 0.2158 - accuracy: 0.9236 - val_loss: 0.3232 - val_accuracy: 0.9000\n",
      "Epoch 9/100\n",
      "926/926 [==============================] - 10s 11ms/step - loss: 0.1975 - accuracy: 0.9295 - val_loss: 0.3182 - val_accuracy: 0.9040\n",
      "Epoch 10/100\n",
      "926/926 [==============================] - 10s 10ms/step - loss: 0.1865 - accuracy: 0.9326 - val_loss: 0.3352 - val_accuracy: 0.8980\n",
      "Epoch 11/100\n",
      "926/926 [==============================] - 9s 10ms/step - loss: 0.1751 - accuracy: 0.9361 - val_loss: 0.3268 - val_accuracy: 0.9062\n",
      "Epoch 12/100\n",
      "926/926 [==============================] - 10s 11ms/step - loss: 0.1650 - accuracy: 0.9392 - val_loss: 0.3341 - val_accuracy: 0.9014\n",
      "Epoch 13/100\n",
      "926/926 [==============================] - 9s 10ms/step - loss: 0.1577 - accuracy: 0.9419 - val_loss: 0.3313 - val_accuracy: 0.9075\n",
      "Epoch 14/100\n",
      "926/926 [==============================] - 9s 10ms/step - loss: 0.1514 - accuracy: 0.9444 - val_loss: 0.3341 - val_accuracy: 0.9098\n",
      "Epoch 15/100\n",
      "926/926 [==============================] - 9s 10ms/step - loss: 0.1451 - accuracy: 0.9466 - val_loss: 0.3353 - val_accuracy: 0.9104\n",
      "Epoch 16/100\n",
      "926/926 [==============================] - 10s 11ms/step - loss: 0.1382 - accuracy: 0.9482 - val_loss: 0.3437 - val_accuracy: 0.9107\n",
      "Epoch 17/100\n",
      "926/926 [==============================] - 9s 10ms/step - loss: 0.1376 - accuracy: 0.9487 - val_loss: 0.3501 - val_accuracy: 0.9093\n",
      "Epoch 18/100\n",
      "926/926 [==============================] - 9s 10ms/step - loss: 0.1282 - accuracy: 0.9522 - val_loss: 0.3591 - val_accuracy: 0.9120\n",
      "Epoch 19/100\n",
      "926/926 [==============================] - 10s 11ms/step - loss: 0.1257 - accuracy: 0.9528 - val_loss: 0.3524 - val_accuracy: 0.9115\n",
      "Epoch 20/100\n",
      "926/926 [==============================] - 10s 10ms/step - loss: 0.1224 - accuracy: 0.9541 - val_loss: 0.3657 - val_accuracy: 0.9123\n",
      "Epoch 21/100\n",
      "926/926 [==============================] - 9s 10ms/step - loss: 0.1193 - accuracy: 0.9552 - val_loss: 0.3675 - val_accuracy: 0.9131\n",
      "Epoch 22/100\n",
      "926/926 [==============================] - 10s 11ms/step - loss: 0.1180 - accuracy: 0.9556 - val_loss: 0.3808 - val_accuracy: 0.9133\n",
      "Epoch 23/100\n",
      "926/926 [==============================] - 9s 10ms/step - loss: 0.1149 - accuracy: 0.9568 - val_loss: 0.3929 - val_accuracy: 0.9130\n",
      "Epoch 24/100\n",
      "926/926 [==============================] - 9s 10ms/step - loss: 0.1149 - accuracy: 0.9566 - val_loss: 0.3995 - val_accuracy: 0.9117\n",
      "Epoch 25/100\n",
      "926/926 [==============================] - 10s 10ms/step - loss: 0.1107 - accuracy: 0.9586 - val_loss: 0.3953 - val_accuracy: 0.9143\n",
      "Epoch 26/100\n",
      "926/926 [==============================] - 9s 10ms/step - loss: 0.1076 - accuracy: 0.9596 - val_loss: 0.4039 - val_accuracy: 0.9106\n",
      "Epoch 27/100\n",
      "926/926 [==============================] - 9s 10ms/step - loss: 0.1028 - accuracy: 0.9611 - val_loss: 0.4064 - val_accuracy: 0.9146\n",
      "Epoch 28/100\n",
      "926/926 [==============================] - 9s 10ms/step - loss: 0.1019 - accuracy: 0.9614 - val_loss: 0.4337 - val_accuracy: 0.9094\n",
      "Epoch 29/100\n",
      "926/926 [==============================] - 10s 11ms/step - loss: 0.1012 - accuracy: 0.9615 - val_loss: 0.4088 - val_accuracy: 0.9129\n",
      "Epoch 30/100\n",
      "926/926 [==============================] - 9s 10ms/step - loss: 0.0988 - accuracy: 0.9629 - val_loss: 0.4360 - val_accuracy: 0.9114\n",
      "Epoch 31/100\n",
      "926/926 [==============================] - 10s 10ms/step - loss: 0.0981 - accuracy: 0.9632 - val_loss: 0.4419 - val_accuracy: 0.9096\n",
      "Epoch 32/100\n",
      "926/926 [==============================] - 10s 11ms/step - loss: 0.0934 - accuracy: 0.9643 - val_loss: 0.4523 - val_accuracy: 0.9100\n",
      "Epoch 33/100\n",
      "926/926 [==============================] - 9s 10ms/step - loss: 0.0949 - accuracy: 0.9639 - val_loss: 0.4515 - val_accuracy: 0.9134\n",
      "Epoch 34/100\n",
      "926/926 [==============================] - 9s 10ms/step - loss: 0.0923 - accuracy: 0.9651 - val_loss: 0.4555 - val_accuracy: 0.9120\n",
      "Epoch 35/100\n",
      "926/926 [==============================] - 11s 11ms/step - loss: 0.0923 - accuracy: 0.9651 - val_loss: 0.4720 - val_accuracy: 0.9109\n",
      "Epoch 36/100\n",
      "926/926 [==============================] - 9s 10ms/step - loss: 0.0942 - accuracy: 0.9642 - val_loss: 0.4645 - val_accuracy: 0.9151\n",
      "Epoch 37/100\n",
      "926/926 [==============================] - 9s 10ms/step - loss: 0.0902 - accuracy: 0.9656 - val_loss: 0.4629 - val_accuracy: 0.9125\n",
      "Epoch 38/100\n",
      "926/926 [==============================] - 9s 9ms/step - loss: 0.0844 - accuracy: 0.9674 - val_loss: 0.4858 - val_accuracy: 0.9145\n",
      "Epoch 39/100\n",
      "926/926 [==============================] - 11s 12ms/step - loss: 0.0877 - accuracy: 0.9668 - val_loss: 0.4977 - val_accuracy: 0.9171\n",
      "Epoch 40/100\n",
      "926/926 [==============================] - 9s 10ms/step - loss: 0.0860 - accuracy: 0.9676 - val_loss: 0.4683 - val_accuracy: 0.9127\n",
      "Epoch 41/100\n",
      "926/926 [==============================] - 9s 10ms/step - loss: 0.0873 - accuracy: 0.9674 - val_loss: 0.4925 - val_accuracy: 0.9144\n",
      "Epoch 42/100\n",
      "926/926 [==============================] - 10s 11ms/step - loss: 0.0832 - accuracy: 0.9681 - val_loss: 0.4906 - val_accuracy: 0.9124\n",
      "Epoch 43/100\n",
      "926/926 [==============================] - 10s 10ms/step - loss: 0.0861 - accuracy: 0.9676 - val_loss: 0.5077 - val_accuracy: 0.9152\n",
      "Epoch 44/100\n",
      "926/926 [==============================] - 9s 10ms/step - loss: 0.0800 - accuracy: 0.9697 - val_loss: 0.5197 - val_accuracy: 0.9117\n",
      "Epoch 45/100\n",
      "926/926 [==============================] - 10s 11ms/step - loss: 0.0815 - accuracy: 0.9692 - val_loss: 0.5347 - val_accuracy: 0.9122\n",
      "Epoch 46/100\n",
      "926/926 [==============================] - 9s 10ms/step - loss: 0.0818 - accuracy: 0.9692 - val_loss: 0.5285 - val_accuracy: 0.9117\n",
      "Epoch 47/100\n",
      "926/926 [==============================] - 9s 10ms/step - loss: 0.0808 - accuracy: 0.9690 - val_loss: 0.5446 - val_accuracy: 0.9134\n",
      "Epoch 48/100\n",
      "926/926 [==============================] - 9s 10ms/step - loss: 0.0786 - accuracy: 0.9697 - val_loss: 0.5298 - val_accuracy: 0.9106\n",
      "Epoch 49/100\n",
      "926/926 [==============================] - 10s 11ms/step - loss: 0.0783 - accuracy: 0.9702 - val_loss: 0.5449 - val_accuracy: 0.9122\n",
      "Epoch 50/100\n",
      "926/926 [==============================] - 10s 10ms/step - loss: 0.0790 - accuracy: 0.9703 - val_loss: 0.5323 - val_accuracy: 0.9146\n",
      "Epoch 51/100\n",
      "926/926 [==============================] - 9s 10ms/step - loss: 0.0763 - accuracy: 0.9710 - val_loss: 0.5476 - val_accuracy: 0.9141\n",
      "Epoch 52/100\n",
      "926/926 [==============================] - 10s 11ms/step - loss: 0.0784 - accuracy: 0.9701 - val_loss: 0.5429 - val_accuracy: 0.9155\n",
      "Epoch 53/100\n",
      "926/926 [==============================] - 9s 10ms/step - loss: 0.0786 - accuracy: 0.9705 - val_loss: 0.5680 - val_accuracy: 0.9124\n",
      "Epoch 54/100\n",
      "926/926 [==============================] - 9s 10ms/step - loss: 0.0724 - accuracy: 0.9725 - val_loss: 0.5692 - val_accuracy: 0.9143\n",
      "Epoch 55/100\n",
      "926/926 [==============================] - 10s 11ms/step - loss: 0.0752 - accuracy: 0.9713 - val_loss: 0.5979 - val_accuracy: 0.9146\n",
      "Epoch 56/100\n",
      "926/926 [==============================] - 9s 10ms/step - loss: 0.0736 - accuracy: 0.9721 - val_loss: 0.5654 - val_accuracy: 0.9143\n",
      "Epoch 57/100\n",
      "926/926 [==============================] - 9s 10ms/step - loss: 0.0718 - accuracy: 0.9726 - val_loss: 0.6045 - val_accuracy: 0.9129\n",
      "Epoch 58/100\n",
      "926/926 [==============================] - 10s 10ms/step - loss: 0.0717 - accuracy: 0.9727 - val_loss: 0.5960 - val_accuracy: 0.9115\n",
      "Epoch 59/100\n",
      "926/926 [==============================] - 10s 11ms/step - loss: 0.0749 - accuracy: 0.9717 - val_loss: 0.6151 - val_accuracy: 0.9136\n",
      "Epoch 60/100\n",
      "926/926 [==============================] - 9s 10ms/step - loss: 0.0705 - accuracy: 0.9733 - val_loss: 0.6159 - val_accuracy: 0.9118\n",
      "Epoch 61/100\n",
      "926/926 [==============================] - 9s 10ms/step - loss: 0.0711 - accuracy: 0.9731 - val_loss: 0.5785 - val_accuracy: 0.9130\n",
      "Epoch 62/100\n",
      "926/926 [==============================] - 10s 11ms/step - loss: 0.0741 - accuracy: 0.9724 - val_loss: 0.6005 - val_accuracy: 0.9131\n",
      "Epoch 63/100\n",
      "926/926 [==============================] - 9s 10ms/step - loss: 0.0692 - accuracy: 0.9735 - val_loss: 0.6020 - val_accuracy: 0.9139\n",
      "Epoch 64/100\n",
      "926/926 [==============================] - 9s 10ms/step - loss: 0.0677 - accuracy: 0.9739 - val_loss: 0.6154 - val_accuracy: 0.9108\n",
      "Epoch 65/100\n",
      "926/926 [==============================] - 11s 12ms/step - loss: 0.0724 - accuracy: 0.9728 - val_loss: 0.6293 - val_accuracy: 0.9147\n",
      "Epoch 66/100\n",
      "926/926 [==============================] - 9s 10ms/step - loss: 0.0679 - accuracy: 0.9740 - val_loss: 0.6400 - val_accuracy: 0.9139\n",
      "Epoch 67/100\n",
      "926/926 [==============================] - 9s 10ms/step - loss: 0.0671 - accuracy: 0.9746 - val_loss: 0.6436 - val_accuracy: 0.9137\n",
      "Epoch 68/100\n",
      "926/926 [==============================] - 9s 10ms/step - loss: 0.0700 - accuracy: 0.9735 - val_loss: 0.6629 - val_accuracy: 0.9137\n",
      "Epoch 69/100\n",
      "926/926 [==============================] - 10s 11ms/step - loss: 0.0693 - accuracy: 0.9740 - val_loss: 0.6687 - val_accuracy: 0.9140\n",
      "Epoch 70/100\n",
      "926/926 [==============================] - 9s 10ms/step - loss: 0.0683 - accuracy: 0.9744 - val_loss: 0.6544 - val_accuracy: 0.9131\n",
      "Epoch 71/100\n",
      "926/926 [==============================] - 9s 10ms/step - loss: 0.0627 - accuracy: 0.9762 - val_loss: 0.6509 - val_accuracy: 0.9148\n",
      "Epoch 72/100\n",
      "926/926 [==============================] - 10s 11ms/step - loss: 0.0669 - accuracy: 0.9746 - val_loss: 0.6785 - val_accuracy: 0.9076\n",
      "Epoch 73/100\n",
      "926/926 [==============================] - 10s 11ms/step - loss: 0.0691 - accuracy: 0.9740 - val_loss: 0.6625 - val_accuracy: 0.9110\n",
      "Epoch 74/100\n",
      "926/926 [==============================] - 9s 10ms/step - loss: 0.0656 - accuracy: 0.9751 - val_loss: 0.6646 - val_accuracy: 0.9127\n",
      "Epoch 75/100\n",
      "926/926 [==============================] - 10s 11ms/step - loss: 0.0645 - accuracy: 0.9756 - val_loss: 0.6801 - val_accuracy: 0.9139\n",
      "Epoch 76/100\n",
      "926/926 [==============================] - 10s 10ms/step - loss: 0.0658 - accuracy: 0.9755 - val_loss: 0.7253 - val_accuracy: 0.9113\n",
      "Epoch 77/100\n",
      "926/926 [==============================] - 10s 11ms/step - loss: 0.0652 - accuracy: 0.9758 - val_loss: 0.7009 - val_accuracy: 0.9153\n",
      "Epoch 78/100\n",
      "926/926 [==============================] - 10s 11ms/step - loss: 0.0641 - accuracy: 0.9754 - val_loss: 0.6600 - val_accuracy: 0.9159\n",
      "Epoch 79/100\n",
      "926/926 [==============================] - 9s 10ms/step - loss: 0.0654 - accuracy: 0.9756 - val_loss: 0.6895 - val_accuracy: 0.9152\n",
      "Epoch 80/100\n",
      "926/926 [==============================] - 10s 11ms/step - loss: 0.0641 - accuracy: 0.9759 - val_loss: 0.7085 - val_accuracy: 0.9167\n",
      "Epoch 81/100\n",
      "926/926 [==============================] - 10s 11ms/step - loss: 0.0625 - accuracy: 0.9763 - val_loss: 0.7214 - val_accuracy: 0.9124\n",
      "Epoch 82/100\n",
      "926/926 [==============================] - 10s 11ms/step - loss: 0.0640 - accuracy: 0.9762 - val_loss: 0.7170 - val_accuracy: 0.9142\n",
      "Epoch 83/100\n",
      "926/926 [==============================] - 9s 10ms/step - loss: 0.0615 - accuracy: 0.9768 - val_loss: 0.7255 - val_accuracy: 0.9136\n",
      "Epoch 84/100\n",
      "926/926 [==============================] - 9s 10ms/step - loss: 0.0629 - accuracy: 0.9768 - val_loss: 0.7278 - val_accuracy: 0.9088\n",
      "Epoch 85/100\n",
      "926/926 [==============================] - 10s 11ms/step - loss: 0.0655 - accuracy: 0.9759 - val_loss: 0.7317 - val_accuracy: 0.9135\n",
      "Epoch 86/100\n",
      "926/926 [==============================] - 9s 10ms/step - loss: 0.0591 - accuracy: 0.9770 - val_loss: 0.7675 - val_accuracy: 0.9117\n",
      "Epoch 87/100\n",
      "926/926 [==============================] - 9s 10ms/step - loss: 0.0634 - accuracy: 0.9763 - val_loss: 0.7778 - val_accuracy: 0.9125\n",
      "Epoch 88/100\n",
      "926/926 [==============================] - 10s 11ms/step - loss: 0.0592 - accuracy: 0.9775 - val_loss: 0.7599 - val_accuracy: 0.9151\n",
      "Epoch 89/100\n",
      "926/926 [==============================] - 9s 10ms/step - loss: 0.0616 - accuracy: 0.9768 - val_loss: 0.7627 - val_accuracy: 0.9135\n",
      "Epoch 90/100\n",
      "926/926 [==============================] - 9s 10ms/step - loss: 0.0624 - accuracy: 0.9767 - val_loss: 0.7887 - val_accuracy: 0.9118\n",
      "Epoch 91/100\n",
      "926/926 [==============================] - 10s 11ms/step - loss: 0.0674 - accuracy: 0.9755 - val_loss: 0.7653 - val_accuracy: 0.9138\n",
      "Epoch 92/100\n",
      "926/926 [==============================] - 9s 10ms/step - loss: 0.0577 - accuracy: 0.9782 - val_loss: 0.7871 - val_accuracy: 0.9135\n",
      "Epoch 93/100\n",
      "926/926 [==============================] - 9s 10ms/step - loss: 0.0603 - accuracy: 0.9776 - val_loss: 0.7423 - val_accuracy: 0.9149\n",
      "Epoch 94/100\n",
      "926/926 [==============================] - 10s 11ms/step - loss: 0.0606 - accuracy: 0.9774 - val_loss: 0.7939 - val_accuracy: 0.9156\n",
      "Epoch 95/100\n",
      "926/926 [==============================] - 11s 12ms/step - loss: 0.0608 - accuracy: 0.9773 - val_loss: 0.8180 - val_accuracy: 0.9139\n",
      "Epoch 96/100\n",
      "926/926 [==============================] - 9s 10ms/step - loss: 0.0586 - accuracy: 0.9781 - val_loss: 0.8364 - val_accuracy: 0.9134\n",
      "Epoch 97/100\n",
      "926/926 [==============================] - 9s 10ms/step - loss: 0.0605 - accuracy: 0.9777 - val_loss: 0.7859 - val_accuracy: 0.9122\n",
      "Epoch 98/100\n",
      "926/926 [==============================] - 10s 11ms/step - loss: 0.0580 - accuracy: 0.9781 - val_loss: 0.8491 - val_accuracy: 0.9140\n",
      "Epoch 99/100\n",
      "926/926 [==============================] - 9s 10ms/step - loss: 0.0610 - accuracy: 0.9775 - val_loss: 0.8495 - val_accuracy: 0.9123\n",
      "Epoch 100/100\n",
      "926/926 [==============================] - 10s 11ms/step - loss: 0.0633 - accuracy: 0.9771 - val_loss: 0.8180 - val_accuracy: 0.9152\n"
     ]
    }
   ],
   "source": [
    "cnn_result=model.fit(X_train, y_train_label, epochs=100, batch_size=200, verbose=1, validation_split=0.1)"
   ]
  },
  {
   "cell_type": "markdown",
   "id": "43dfaa82",
   "metadata": {
    "papermill": {
     "duration": 7.751873,
     "end_time": "2023-12-08T11:03:50.569102",
     "exception": false,
     "start_time": "2023-12-08T11:03:42.817229",
     "status": "completed"
    },
    "tags": []
   },
   "source": [
    "## Testing the Model"
   ]
  },
  {
   "cell_type": "code",
   "execution_count": 15,
   "id": "94a53bd7",
   "metadata": {
    "execution": {
     "iopub.execute_input": "2023-12-08T11:04:06.081570Z",
     "iopub.status.busy": "2023-12-08T11:04:06.081012Z",
     "iopub.status.idle": "2023-12-08T11:04:11.812827Z",
     "shell.execute_reply": "2023-12-08T11:04:11.811888Z"
    },
    "papermill": {
     "duration": 13.519326,
     "end_time": "2023-12-08T11:04:11.815441",
     "exception": false,
     "start_time": "2023-12-08T11:03:58.296115",
     "status": "completed"
    },
    "tags": []
   },
   "outputs": [
    {
     "name": "stdout",
     "output_type": "stream",
     "text": [
      "2142/2142 [==============================] - 5s 2ms/step - loss: 0.8534 - accuracy: 0.9115\n",
      "Test results - Accuracy: 91.14999999999999%\n"
     ]
    }
   ],
   "source": [
    "test_results = model.evaluate(X_test, y_test_label, verbose=1)\n",
    "print(f'Test results - Accuracy: {round(test_results[1],4)*100}%')"
   ]
  },
  {
   "cell_type": "markdown",
   "id": "ebc47462",
   "metadata": {
    "papermill": {
     "duration": 7.742473,
     "end_time": "2023-12-08T11:04:27.311443",
     "exception": false,
     "start_time": "2023-12-08T11:04:19.568970",
     "status": "completed"
    },
    "tags": []
   },
   "source": [
    "## Testing Model Accuracy"
   ]
  },
  {
   "cell_type": "code",
   "execution_count": 16,
   "id": "baa502a9",
   "metadata": {
    "execution": {
     "iopub.execute_input": "2023-12-08T11:04:42.816871Z",
     "iopub.status.busy": "2023-12-08T11:04:42.816553Z",
     "iopub.status.idle": "2023-12-08T11:04:47.739417Z",
     "shell.execute_reply": "2023-12-08T11:04:47.738364Z"
    },
    "papermill": {
     "duration": 12.6562,
     "end_time": "2023-12-08T11:04:47.741533",
     "exception": false,
     "start_time": "2023-12-08T11:04:35.085333",
     "status": "completed"
    },
    "tags": []
   },
   "outputs": [
    {
     "name": "stdout",
     "output_type": "stream",
     "text": [
      "Test results - Accuracy: 90.0%\n"
     ]
    }
   ],
   "source": [
    "prediction = model.predict(X_test)\n",
    "prediction = lb.inverse_transform(prediction)\n",
    "print(f'Test results - Accuracy: {round(accuracy_score(y_test, prediction),1)*100}%')"
   ]
  },
  {
   "cell_type": "code",
   "execution_count": 17,
   "id": "b2993dab",
   "metadata": {
    "execution": {
     "iopub.execute_input": "2023-12-08T11:05:03.152263Z",
     "iopub.status.busy": "2023-12-08T11:05:03.151363Z",
     "iopub.status.idle": "2023-12-08T11:05:03.161472Z",
     "shell.execute_reply": "2023-12-08T11:05:03.160750Z"
    },
    "papermill": {
     "duration": 7.72079,
     "end_time": "2023-12-08T11:05:03.163551",
     "exception": false,
     "start_time": "2023-12-08T11:04:55.442761",
     "status": "completed"
    },
    "tags": []
   },
   "outputs": [],
   "source": [
    "# Function for Plotting\n",
    "def plot_performance(data):\n",
    "    fig, ax = plt.subplots(1,2 , figsize = (20,7))\n",
    "    # summarize history for accuracy\n",
    "    ax[0].plot(data.history['accuracy'])\n",
    "    ax[0].plot(data.history['val_accuracy'])\n",
    "    ax[0].set_title('model accuracy')\n",
    "    ax[0].set_xlabel(\"Epochs\")\n",
    "    ax[0].set_ylabel(\"Accuracy\")\n",
    "    ax[0].legend(['train', 'test'], loc='upper left')\n",
    "\n",
    "    # summarize history for loss\n",
    "    ax[1].plot(data.history['loss'], label =['loss'])\n",
    "    ax[1].plot(data.history['val_loss'] ,label =['val_loss'])\n",
    "    ax[1].set_title('model loss')\n",
    "    ax[1].set_xlabel(\"Epochs\")\n",
    "    ax[1].set_ylabel(\"Loss\")\n",
    "    ax[1].legend(['train', 'test'], loc='upper left')\n",
    "    plt.show()"
   ]
  },
  {
   "cell_type": "markdown",
   "id": "d4103416",
   "metadata": {
    "papermill": {
     "duration": 7.714736,
     "end_time": "2023-12-08T11:05:18.483240",
     "exception": false,
     "start_time": "2023-12-08T11:05:10.768504",
     "status": "completed"
    },
    "tags": []
   },
   "source": [
    "## Plotting the Performance of CNN model"
   ]
  },
  {
   "cell_type": "code",
   "execution_count": 18,
   "id": "6e73e895",
   "metadata": {
    "execution": {
     "iopub.execute_input": "2023-12-08T11:05:33.888998Z",
     "iopub.status.busy": "2023-12-08T11:05:33.888144Z",
     "iopub.status.idle": "2023-12-08T11:05:34.310306Z",
     "shell.execute_reply": "2023-12-08T11:05:34.309258Z"
    },
    "papermill": {
     "duration": 8.162152,
     "end_time": "2023-12-08T11:05:34.313323",
     "exception": false,
     "start_time": "2023-12-08T11:05:26.151171",
     "status": "completed"
    },
    "tags": []
   },
   "outputs": [
    {
     "data": {
      "image/png": "[encoded data removed]",
      "text/plain": [
       "<Figure size 1440x504 with 2 Axes>"
      ]
     },
     "metadata": {
      "needs_background": "light"
     },
     "output_type": "display_data"
    }
   ],
   "source": [
    "#Performance of a Convolutional Neural Network\n",
    "plot_performance(cnn_result)"
   ]
  },
  {
   "cell_type": "markdown",
   "id": "865ca94d",
   "metadata": {
    "papermill": {
     "duration": 7.833097,
     "end_time": "2023-12-08T11:05:49.800766",
     "exception": false,
     "start_time": "2023-12-08T11:05:41.967669",
     "status": "completed"
    },
    "tags": []
   },
   "source": [
    "## Conclusion\n",
    "\n",
    "By running more epochs we can most likely increase the accuracy but the accuracy speed becomes slower eventually.   \n",
    "**The accuracy on this test model is 91.56% which is good for a CNN after 100 epochs.**\n"
   ]
  },
  {
   "cell_type": "markdown",
   "id": "5317b2a2",
   "metadata": {
    "papermill": {
     "duration": 7.711009,
     "end_time": "2023-12-08T11:06:05.231052",
     "exception": false,
     "start_time": "2023-12-08T11:05:57.520043",
     "status": "completed"
    },
    "tags": []
   },
   "source": [
    "## Reference"
   ]
  },
  {
   "cell_type": "markdown",
   "id": "58ea390d",
   "metadata": {
    "papermill": {
     "duration": 7.776954,
     "end_time": "2023-12-08T11:06:20.655179",
     "exception": false,
     "start_time": "2023-12-08T11:06:12.878225",
     "status": "completed"
    },
    "tags": []
   },
   "source": [
    "\n",
    "* https://machinelearningmastery.com/how-to-develop-a-convolutional-neural-network-from-scratch-for-mnist-handwritten-digit-classification/"
   ]
  },
  {
   "cell_type": "markdown",
   "id": "01ed8caa",
   "metadata": {
    "papermill": {
     "duration": 7.610935,
     "end_time": "2023-12-08T11:06:35.960738",
     "exception": false,
     "start_time": "2023-12-08T11:06:28.349803",
     "status": "completed"
    },
    "tags": []
   },
   "source": [
    "**MIT License**\n",
    "\n",
    "Copyright (c) 2023 Chao Yan\n",
    "\n",
    "Permission is hereby granted, free of charge, to any person obtaining a copy of this software and associated documentation files (the \"Software\"), to deal in the Software without restriction, including without limitation the rights to use, copy, modify, merge, publish, distribute, sublicense, and/or sell copies of the Software, and to permit persons to whom the Software is furnished to do so, subject to the following conditions:\n",
    "\n",
    "The above copyright notice and this permission notice shall be included in all copies or substantial portions of the Software.\n",
    "\n",
    "THE SOFTWARE IS PROVIDED \"AS IS\", WITHOUT WARRANTY OF ANY KIND, EXPRESS OR IMPLIED, INCLUDING BUT NOT LIMITED TO THE WARRANTIES OF MERCHANTABILITY, FITNESS FOR A PARTICULAR PURPOSE AND NONINFRINGEMENT. IN NO EVENT SHALL THE AUTHORS OR COPYRIGHT HOLDERS BE LIABLE FOR ANY CLAIM, DAMAGES OR OTHER LIABILITY, WHETHER IN AN ACTION OF CONTRACT, TORT OR OTHERWISE, ARISING FROM, OUT OF OR IN CONNECTION WITH THE SOFTWARE OR THE USE OR OTHER DEALINGS IN THE SOFTWARE."
   ]
  }
 ],
 "metadata": {
  "kaggle": {
   "accelerator": "none",
   "dataSources": [
    {
     "datasetId": 1564532,
     "sourceId": 2830968,
     "sourceType": "datasetVersion"
    }
   ],
   "dockerImageVersionId": 30184,
   "isGpuEnabled": false,
   "isInternetEnabled": true,
   "language": "python",
   "sourceType": "notebook"
  },
  "kernelspec": {
   "display_name": "Python 3",
   "language": "python",
   "name": "python3"
  },
  "language_info": {
   "codemirror_mode": {
    "name": "ipython",
    "version": 3
   },
   "file_extension": ".py",
   "mimetype": "text/x-python",
   "name": "python",
   "nbconvert_exporter": "python",
   "pygments_lexer": "ipython3",
   "version": "3.7.12"
  },
  "papermill": {
   "default_parameters": {},
   "duration": 1226.017929,
   "end_time": "2023-12-08T11:06:47.338074",
   "environment_variables": {},
   "exception": null,
   "input_path": "__notebook__.ipynb",
   "output_path": "__notebook__.ipynb",
   "parameters": {},
   "start_time": "2023-12-08T10:46:21.320145",
   "version": "2.3.4"
  }
 },
 "nbformat": 4,
 "nbformat_minor": 5
}
